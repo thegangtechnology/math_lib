{
 "cells": [
  {
   "cell_type": "code",
   "execution_count": 1,
   "metadata": {},
   "outputs": [],
   "source": [
    "%load_ext autoreload\n",
    "%autoreload 2\n",
    "%matplotlib inline"
   ]
  },
  {
   "cell_type": "code",
   "execution_count": 2,
   "metadata": {},
   "outputs": [],
   "source": [
    "import numpy as np\n",
    "import cvxpy as cp\n",
    "import matplotlib.pyplot as plt"
   ]
  },
  {
   "cell_type": "code",
   "execution_count": 59,
   "metadata": {},
   "outputs": [],
   "source": [
    "from tg_math_lib.geometry import line_line_shortest_dist_bounded"
   ]
  },
  {
   "cell_type": "code",
   "execution_count": null,
   "metadata": {},
   "outputs": [],
   "source": []
  },
  {
   "cell_type": "code",
   "execution_count": 25,
   "metadata": {},
   "outputs": [],
   "source": [
    "def closest_dist_cvxpy(r1, v1, r2, v2):\n",
    "    t1 = cp.Variable()\n",
    "    t2 = cp.Variable()\n",
    "    obj = cp.Minimize(cp.norm2((r1 + v1 * t1) - (r2 + v2 * t2)))\n",
    "    constraints = [\n",
    "        t1 >= 0,\n",
    "        t1 <= 1,\n",
    "        t2 >= 0,\n",
    "        t2 <= 1,\n",
    "    ]\n",
    "    prob = cp.Problem(obj, constraints)\n",
    "    soln = prob.solve()\n",
    "    return soln, (t1.value, t2.value)"
   ]
  },
  {
   "cell_type": "code",
   "execution_count": null,
   "metadata": {},
   "outputs": [],
   "source": []
  },
  {
   "cell_type": "code",
   "execution_count": null,
   "metadata": {},
   "outputs": [],
   "source": []
  },
  {
   "cell_type": "code",
   "execution_count": 167,
   "metadata": {},
   "outputs": [],
   "source": [
    "def two_lines_closest_dist_unbounded(r1, v1, r2, v2):\n",
    "    R = r2 - r1\n",
    "    A = np.array([[np.dot(v1, v1), -np.dot(v1, v2)],\n",
    "                  [np.dot(v2, v1), -np.dot(v2, v2)]])\n",
    "    b = np.array([np.dot(R, v1), np.dot(R, v2)])\n",
    "    t1, t2 = np.matmul(np.linalg.inv(A), b)\n",
    "    return t1, t2"
   ]
  },
  {
   "cell_type": "code",
   "execution_count": 255,
   "metadata": {},
   "outputs": [],
   "source": [
    "# def line_and_point_closest_dist(r1, v1, pt):\n",
    "#     return np.dot(v1, r1 - pt) / np.dot(v1, v1)"
   ]
  },
  {
   "cell_type": "code",
   "execution_count": 360,
   "metadata": {},
   "outputs": [],
   "source": [
    "def closest_dist(r1, v1, r2, v2, eps=1e-6):\n",
    "\n",
    "    dist = lambda t1, t2: np.linalg.norm((r1 + v1 * t1) - (r2 + v2 * t2))\n",
    "    \n",
    "    # check against unbounded version first if not parallel\n",
    "    if np.dot(v1, v2) < np.linalg.norm(v1) * np.linalg.norm(v2) - eps:\n",
    "        t1, t2 = two_lines_closest_dist_unbounded(r1, v1, r2, v2)\n",
    "        if 0 <= t1 <= 1 and 0 <= t2 <= 1:\n",
    "            # already found optimum, can exit\n",
    "            return dist(t1, t2)\n",
    "    \n",
    "    # enters here if unbounded optimal not in feasible region\n",
    "    # solution therefore must be on the boundary\n",
    "    # so check all edges and corners\n",
    "    best_dist = np.inf\n",
    "    best_t1, best_t2 = None, None\n",
    "    \n",
    "    for t1_fixed in [0, 1, None]:\n",
    "        \n",
    "        for t2_fixed in [0, 1, None]:\n",
    "            \n",
    "            if t1_fixed is None and t2_fixed is None:\n",
    "                # this case not on edge, skipped\n",
    "                continue\n",
    "            elif t1_fixed is None:\n",
    "                # case when t2_guess fixed\n",
    "                t1_guess = (np.dot(v1, v2) * t2_fixed - np.dot(r1 - r2, v1)) / np.dot(v1, v1)\n",
    "                t2_guess = t2_fixed\n",
    "            elif t2_fixed is None:\n",
    "                # case when t1_guess fixed\n",
    "                t1_guess = t1_fixed\n",
    "                t2_guess = (np.dot(v1, v2) * t1_fixed + np.dot(r1 - r2, v2)) / np.dot(v2, v2)\n",
    "            else:\n",
    "                t1_guess = t1_fixed\n",
    "                t2_guess = t2_fixed\n",
    "                        \n",
    "            if 0 <= t1_guess <= 1 and 0 <= t2_guess <= 1:\n",
    "                # only consider if the terms are in the bounds\n",
    "                d = dist(t1_guess, t2_guess)\n",
    "                if d < best_dist:\n",
    "                    best_dist = d\n",
    "                    best_t1 = t1_guess\n",
    "                    best_t2 = t2_guess\n",
    "    \n",
    "    return best_dist"
   ]
  },
  {
   "cell_type": "code",
   "execution_count": 78,
   "metadata": {},
   "outputs": [],
   "source": [
    "r1 = np.array([1, 0, 0])\n",
    "r2 = np.array([0, 1, 0])\n",
    "v1 = np.array([1, 2, 0])\n",
    "v2 = np.array([-0.2, -0.4, 0])"
   ]
  },
  {
   "cell_type": "code",
   "execution_count": 79,
   "metadata": {},
   "outputs": [
    {
     "name": "stdout",
     "output_type": "stream",
     "text": [
      "CPU times: user 13.3 ms, sys: 552 µs, total: 13.9 ms\n",
      "Wall time: 13.6 ms\n"
     ]
    }
   ],
   "source": [
    "%time _, (t1_cvxpy, t2_cvxpy) = closest_dist_cvxpy(r1, v1, r2, v2)"
   ]
  },
  {
   "cell_type": "code",
   "execution_count": 80,
   "metadata": {},
   "outputs": [
    {
     "name": "stdout",
     "output_type": "stream",
     "text": [
      "CPU times: user 215 µs, sys: 66 µs, total: 281 µs\n",
      "Wall time: 227 µs\n"
     ]
    }
   ],
   "source": [
    "%time _, (t1, t2) = line_line_shortest_dist_bounded(r1, v1, r2, v2, return_t=True)"
   ]
  },
  {
   "cell_type": "code",
   "execution_count": 81,
   "metadata": {},
   "outputs": [
    {
     "data": {
      "text/plain": [
       "<a list of 7 text.Text objects>"
      ]
     },
     "execution_count": 81,
     "metadata": {},
     "output_type": "execute_result"
    },
    {
     "data": {
      "image/png": "[encoded data removed]",
      "text/plain": [
       "<Figure size 504x504 with 1 Axes>"
      ]
     },
     "metadata": {
      "needs_background": "light"
     },
     "output_type": "display_data"
    }
   ],
   "source": [
    "t1s = np.linspace(0, 1)\n",
    "t2s = np.linspace(0, 1)\n",
    "plt.figure(figsize=(7, 7))\n",
    "CS = plt.contour(t1s, t2s, [[np.linalg.norm((r1 + v1 * t1) - (r2 + v2 * t2)) for t1 in t1s] for t2 in t2s])\n",
    "plt.plot([t1], [t2], 'o', markersize=10)\n",
    "plt.plot([t1_cvxpy], [t2_cvxpy], 'x', markersize=10)\n",
    "plt.clabel(CS, CS.levels, inline=True)"
   ]
  },
  {
   "cell_type": "code",
   "execution_count": null,
   "metadata": {},
   "outputs": [],
   "source": []
  },
  {
   "cell_type": "code",
   "execution_count": null,
   "metadata": {},
   "outputs": [],
   "source": []
  },
  {
   "cell_type": "code",
   "execution_count": 90,
   "metadata": {},
   "outputs": [],
   "source": [
    "for _ in range(100):\n",
    "    r1 = np.random.rand(3)\n",
    "    r2 = np.random.rand(3)\n",
    "    v1 = np.random.rand(3)\n",
    "    v2 = np.random.rand(3)\n",
    "    _, ans1 = line_line_shortest_dist_bounded(r1, v1, r2, v2, return_t=True)\n",
    "    _, ans2 = closest_dist_cvxpy(r1, v1, r2, v2)\n",
    "    np.testing.assert_array_almost_equal(ans1, ans2, decimal=4)"
   ]
  },
  {
   "cell_type": "code",
   "execution_count": 91,
   "metadata": {},
   "outputs": [
    {
     "name": "stdout",
     "output_type": "stream",
     "text": [
      "[0.02220415 0.51176983 0.09934784] [0.59239106 0.52543449 0.84187871] [0.15278532 0.52724277 0.54122267] [0.49407423 0.1957999  0.94259345]\n"
     ]
    }
   ],
   "source": [
    "print(r1, r2, v1, v2)"
   ]
  },
  {
   "cell_type": "code",
   "execution_count": 92,
   "metadata": {},
   "outputs": [
    {
     "name": "stdout",
     "output_type": "stream",
     "text": [
      "no cvx    0.6799499074570258\n",
      "with cvx  0.6799499075966775\n"
     ]
    }
   ],
   "source": [
    "print(\"no cvx   \", np.linalg.norm((r1 + v1 * ans1[0]) - (r2 + v2 * ans1[1]))) \n",
    "print(\"with cvx \", np.linalg.norm((r1 + v1 * ans2[0]) - (r2 + v2 * ans2[1])))"
   ]
  },
  {
   "cell_type": "code",
   "execution_count": 93,
   "metadata": {},
   "outputs": [
    {
     "data": {
      "text/plain": [
       "<a list of 6 text.Text objects>"
      ]
     },
     "execution_count": 93,
     "metadata": {},
     "output_type": "execute_result"
    },
    {
     "data": {
      "image/png": "[encoded data removed]",
      "text/plain": [
       "<Figure size 504x504 with 1 Axes>"
      ]
     },
     "metadata": {
      "needs_background": "light"
     },
     "output_type": "display_data"
    }
   ],
   "source": [
    "t1s = np.linspace(0, 1)\n",
    "t2s = np.linspace(0, 1)\n",
    "plt.figure(figsize=(7, 7))\n",
    "CS = plt.contour(t1s, t2s, [[np.linalg.norm((r1 + v1 * t1) - (r2 + v2 * t2)) for t1 in t1s] for t2 in t2s])\n",
    "plt.plot([ans1[0]], [ans1[1]], 'o', markersize=10)\n",
    "plt.plot([ans2[0]], [ans2[1]], 'x', markersize=10)\n",
    "plt.clabel(CS, CS.levels, inline=True)"
   ]
  },
  {
   "cell_type": "code",
   "execution_count": null,
   "metadata": {},
   "outputs": [],
   "source": []
  },
  {
   "cell_type": "code",
   "execution_count": null,
   "metadata": {},
   "outputs": [],
   "source": []
  },
  {
   "cell_type": "code",
   "execution_count": 56,
   "metadata": {},
   "outputs": [],
   "source": [
    "rand_vects = [[np.random.rand(3) for _ in range(4)] for _ in range(1000)]"
   ]
  },
  {
   "cell_type": "code",
   "execution_count": 62,
   "metadata": {},
   "outputs": [
    {
     "name": "stdout",
     "output_type": "stream",
     "text": [
      "CPU times: user 247 ms, sys: 24.2 ms, total: 271 ms\n",
      "Wall time: 142 ms\n"
     ]
    }
   ],
   "source": [
    "%time all_ans = [line_line_shortest_dist_bounded(r1, v1, r2, v2) for r1, v1, r2, v2 in rand_vects]"
   ]
  },
  {
   "cell_type": "code",
   "execution_count": 63,
   "metadata": {},
   "outputs": [
    {
     "name": "stdout",
     "output_type": "stream",
     "text": [
      "CPU times: user 12.8 s, sys: 134 ms, total: 13 s\n",
      "Wall time: 13.8 s\n"
     ]
    }
   ],
   "source": [
    "%time all_ans_cvxpy = [closest_dist_cvxpy(r1, v1, r2, v2)[0] for r1, v1, r2, v2 in rand_vects]"
   ]
  },
  {
   "cell_type": "code",
   "execution_count": 64,
   "metadata": {},
   "outputs": [],
   "source": [
    "np.testing.assert_array_almost_equal(all_ans, all_ans_cvxpy)"
   ]
  },
  {
   "cell_type": "code",
   "execution_count": null,
   "metadata": {},
   "outputs": [],
   "source": []
  },
  {
   "cell_type": "code",
   "execution_count": 65,
   "metadata": {},
   "outputs": [],
   "source": [
    "#check parallel cases\n",
    "rand_vects = [[np.random.rand(3) for _ in range(4)] for _ in range(1000)]\n",
    "for i in range(len(rand_vects)):\n",
    "    rand_vects[i][3] = rand_vects[i][1] * 2 * (np.random.rand() - 0.5)"
   ]
  },
  {
   "cell_type": "code",
   "execution_count": 67,
   "metadata": {},
   "outputs": [
    {
     "name": "stdout",
     "output_type": "stream",
     "text": [
      "CPU times: user 82 ms, sys: 1.91 ms, total: 83.9 ms\n",
      "Wall time: 84 ms\n"
     ]
    }
   ],
   "source": [
    "%time all_ans = [line_line_shortest_dist_bounded(r1, v1, r2, v2) for r1, v1, r2, v2 in rand_vects]"
   ]
  },
  {
   "cell_type": "code",
   "execution_count": 68,
   "metadata": {},
   "outputs": [
    {
     "name": "stdout",
     "output_type": "stream",
     "text": [
      "CPU times: user 11.2 s, sys: 52.8 ms, total: 11.2 s\n",
      "Wall time: 11.3 s\n"
     ]
    }
   ],
   "source": [
    "%time all_ans_cvxpy = [closest_dist_cvxpy(r1, v1, r2, v2)[0] for r1, v1, r2, v2 in rand_vects]"
   ]
  },
  {
   "cell_type": "code",
   "execution_count": 69,
   "metadata": {},
   "outputs": [],
   "source": [
    "np.testing.assert_array_almost_equal(all_ans, all_ans_cvxpy)"
   ]
  },
  {
   "cell_type": "code",
   "execution_count": null,
   "metadata": {},
   "outputs": [],
   "source": []
  }
 ],
 "metadata": {
  "kernelspec": {
   "display_name": "Python 3",
   "language": "python",
   "name": "python3"
  },
  "language_info": {
   "codemirror_mode": {
    "name": "ipython",
    "version": 3
   },
   "file_extension": ".py",
   "mimetype": "text/x-python",
   "name": "python",
   "nbconvert_exporter": "python",
   "pygments_lexer": "ipython3",
   "version": "3.7.10"
  }
 },
 "nbformat": 4,
 "nbformat_minor": 4
}
